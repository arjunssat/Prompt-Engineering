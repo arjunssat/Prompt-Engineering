{
  "nbformat": 4,
  "nbformat_minor": 0,
  "metadata": {
    "colab": {
      "provenance": []
    },
    "kernelspec": {
      "name": "python3",
      "display_name": "Python 3"
    },
    "language_info": {
      "name": "python"
    }
  },
  "cells": [
    {
      "cell_type": "code",
      "execution_count": null,
      "metadata": {
        "id": "pTttWK4j1DAv"
      },
      "outputs": [],
      "source": [
        "from dotenv import load_dotenv\n",
        "_ = load_dotenv()   #load environmental variable LAMINI_API_KEY with key from .env file"
      ]
    },
    {
      "cell_type": "code",
      "source": [
        "import lamini\n",
        "llm = lamini.Lamini(model_name=\"meta-llama/Meta-Llama-3-8B-Instruct\")"
      ],
      "metadata": {
        "id": "6skeUqwc1FIy"
      },
      "execution_count": null,
      "outputs": []
    },
    {
      "cell_type": "code",
      "source": [
        "prompt = \"\"\"\\\n",
        "<|begin_of_text|><|start_header_id|>system<|end_header_id|>\n",
        "\n",
        "You are a helpful assistant.<|eot_id|><|start_header_id|>user<|end_header_id|>\n",
        "\n",
        "Please write a birthday card for my good friend Andrew\\\n",
        "<|eot_id|><|start_header_id|>assistant<|end_header_id|>\n",
        "\n",
        "\"\"\""
      ],
      "metadata": {
        "id": "v0AVclE51FFO"
      },
      "execution_count": null,
      "outputs": []
    },
    {
      "cell_type": "code",
      "source": [
        "result = llm.generate(prompt, max_new_tokens=200)\n",
        "print(result)"
      ],
      "metadata": {
        "id": "PVcyebLn1FCy"
      },
      "execution_count": null,
      "outputs": []
    },
    {
      "cell_type": "code",
      "source": [
        "prompt2 = (\n",
        "    \"<|begin_of_text|>\"  # Start of prompt\n",
        "    \"<|start_header_id|>system<|end_header_id|>\\n\\n\"  #  header - system\n",
        "    \"You are a helpful assistant.\"  # system prompt\n",
        "    \"<|eot_id|>\" # end of turn\n",
        "    \"<|start_header_id|>user<|end_header_id|>\\n\\n\" # header - user\n",
        "    \"Please write a birthday card for my good friend Andrew\"\n",
        "    \"<|eot_id|>\" # end of turn\n",
        "    \"<|start_header_id|>assistant<|end_header_id|>\\n\\n\" # header - assistant\n",
        "    )\n",
        "print(prompt2)"
      ],
      "metadata": {
        "id": "2nlaH34E1FAQ"
      },
      "execution_count": null,
      "outputs": []
    },
    {
      "cell_type": "code",
      "source": [
        "prompt == prompt2"
      ],
      "metadata": {
        "id": "dsbmx3Rp1E9p"
      },
      "execution_count": null,
      "outputs": []
    },
    {
      "cell_type": "code",
      "source": [
        "def make_llama_3_prompt(user, system=\"\"):\n",
        "    system_prompt = \"\"\n",
        "    if system != \"\":\n",
        "        system_prompt = (\n",
        "            f\"<|start_header_id|>system<|end_header_id|>\\n\\n{system}\"\n",
        "            f\"<|eot_id|>\"\n",
        "        )\n",
        "    prompt = (f\"<|begin_of_text|>{system_prompt}\"\n",
        "              f\"<|start_header_id|>user<|end_header_id|>\\n\\n\"\n",
        "              f\"{user}\"\n",
        "              f\"<|eot_id|>\"\n",
        "              f\"<|start_header_id|>assistant<|end_header_id|>\\n\\n\"\n",
        "         )\n",
        "    return prompt"
      ],
      "metadata": {
        "id": "NSt-ZSmu1E7C"
      },
      "execution_count": null,
      "outputs": []
    },
    {
      "cell_type": "code",
      "source": [
        "system_prompt = user_prompt = \"You are a helpful assistant.\"\n",
        "user_prompt = \"Please write a birthday card for my good friend Andrew\"\n",
        "prompt3 = make_llama_3_prompt(user_prompt, system_prompt)\n",
        "print(prompt3)"
      ],
      "metadata": {
        "id": "lQpNCug21E4S"
      },
      "execution_count": null,
      "outputs": []
    },
    {
      "cell_type": "code",
      "source": [
        "prompt == prompt3"
      ],
      "metadata": {
        "id": "BP-5TuZr1E1k"
      },
      "execution_count": null,
      "outputs": []
    },
    {
      "cell_type": "code",
      "source": [
        "user_prompt = \"Tell me a joke about birthday cake\"\n",
        "prompt = make_llama_3_prompt(user_prompt)\n",
        "print(prompt)"
      ],
      "metadata": {
        "id": "wmSrnf791Uwd"
      },
      "execution_count": null,
      "outputs": []
    },
    {
      "cell_type": "code",
      "source": [
        "result = llm.generate(prompt, max_new_tokens=200)\n",
        "print(result)"
      ],
      "metadata": {
        "id": "8RXHnJ5v1UtG"
      },
      "execution_count": null,
      "outputs": []
    },
    {
      "cell_type": "markdown",
      "source": [
        "# Llama 3 can generate SQL"
      ],
      "metadata": {
        "id": "P7GtB8Vd1aQR"
      }
    },
    {
      "cell_type": "code",
      "source": [
        "question = (\n",
        "    \"Given an arbitrary table named `sql_table`, \"\n",
        "    \"write a query to return how many rows are in the table.\"\n",
        "    )\n",
        "prompt = make_llama_3_prompt(question)\n",
        "print(llm.generate(prompt, max_new_tokens=200))"
      ],
      "metadata": {
        "id": "hvow3SyV1Uqq"
      },
      "execution_count": null,
      "outputs": []
    },
    {
      "cell_type": "code",
      "source": [
        "question = \"\"\"Given an arbitrary table named `sql_table`,\n",
        "help me calculate the average `height` where `age` is above 20.\"\"\"\n",
        "prompt = make_llama_3_prompt(question)\n",
        "print(llm.generate(prompt, max_new_tokens=200))"
      ],
      "metadata": {
        "id": "n9PftHtP1UoY"
      },
      "execution_count": null,
      "outputs": []
    },
    {
      "cell_type": "code",
      "source": [
        "question = \"\"\"Given an arbitrary table named `sql_table`,\n",
        "Can you calculate the p95 `height` where the `age` is above 20?\"\"\"\n",
        "prompt = make_llama_3_prompt(question)\n",
        "print(llm.generate(prompt, max_new_tokens=200))"
      ],
      "metadata": {
        "id": "f1bTSDaw1Ul7"
      },
      "execution_count": null,
      "outputs": []
    },
    {
      "cell_type": "code",
      "source": [
        "question = (\"Given an arbitrary table named `sql_table`, \"\n",
        "            \"Can you calculate the p95 `height` \"\n",
        "            \"where the `age` is above 20? Use sqlite.\")\n",
        "prompt = make_llama_3_prompt(question)\n",
        "\n",
        "print(llm.generate(prompt, max_new_tokens=200))"
      ],
      "metadata": {
        "id": "dCjBgdPX1Ujq"
      },
      "execution_count": null,
      "outputs": []
    },
    {
      "cell_type": "markdown",
      "source": [
        "# Create a SQL Agent"
      ],
      "metadata": {
        "id": "1yHKoQdT6RjV"
      }
    },
    {
      "cell_type": "code",
      "source": [
        "import logging\n",
        "import sqlite3\n",
        "import pandas as pd\n",
        "from util.get_schema import get_schema\n",
        "from util.make_llama_3_prompt import make_llama_3_prompt\n",
        "from util.setup_logging import setup_logging\n",
        "\n",
        "logger = logging.getLogger(__name__)\n",
        "engine = sqlite3.connect(\"./nba_roster.db\")\n",
        "setup_logging()"
      ],
      "metadata": {
        "id": "di4r3L011UhN"
      },
      "execution_count": null,
      "outputs": []
    },
    {
      "cell_type": "code",
      "source": [
        "import lamini"
      ],
      "metadata": {
        "id": "ygcflrk91Ue1"
      },
      "execution_count": null,
      "outputs": []
    },
    {
      "cell_type": "code",
      "source": [
        "llm = lamini.Lamini(model_name=\"meta-llama/Meta-Llama-3-8B-Instruct\")"
      ],
      "metadata": {
        "id": "1oUoNQUg6X2V"
      },
      "execution_count": null,
      "outputs": []
    },
    {
      "cell_type": "code",
      "source": [
        "# Meta Llama 3 Instruct uses a prompt template, with special tags used to indicate the user query and system prompt.\n",
        "# You can find the documentation on this [model card](https://llama.meta.com/docs/model-cards-and-prompt-formats/meta-llama-3/#meta-llama-3-instruct).\n",
        "def make_llama_3_prompt(user, system=\"\"):\n",
        "    system_prompt = \"\"\n",
        "    if system != \"\":\n",
        "        system_prompt = (\n",
        "            f\"<|start_header_id|>system<|end_header_id|>\\n\\n{system}<|eot_id|>\"\n",
        "        )\n",
        "    return f\"<|begin_of_text|>{system_prompt}<|start_header_id|>user<|end_header_id|>\\n\\n{user}<|eot_id|><|start_header_id|>assistant<|end_header_id|>\\n\\n\""
      ],
      "metadata": {
        "id": "BohEkxDu6Xy6"
      },
      "execution_count": null,
      "outputs": []
    },
    {
      "cell_type": "code",
      "source": [
        "def get_schema():\n",
        "    return \"\"\"\\\n",
        "0|Team|TEXT\n",
        "1|NAME|TEXT\n",
        "2|Jersey|TEXT\n",
        "3|POS|TEXT\n",
        "4|AGE|INT\n",
        "5|HT|TEXT\n",
        "6|WT|TEXT\n",
        "7|COLLEGE|TEXT\n",
        "8|SALARY|TEXT eg.\n",
        "\"\"\""
      ],
      "metadata": {
        "id": "Idjkk7oW6Xwi"
      },
      "execution_count": null,
      "outputs": []
    },
    {
      "cell_type": "code",
      "source": [
        "user = \"\"\"Who is the highest paid NBA player?\"\"\""
      ],
      "metadata": {
        "id": "ZLQoLSCy6epn"
      },
      "execution_count": null,
      "outputs": []
    },
    {
      "cell_type": "code",
      "source": [
        "system = f\"\"\"You are an NBA analyst with 15 years of experience writing complex SQL queries. Consider the nba_roster table with the following schema:\n",
        "{get_schema()}\n",
        "\n",
        "Write a sqlite query to answer the following question. Follow instructions exactly\"\"\""
      ],
      "metadata": {
        "id": "wdWIDA-T6gHv"
      },
      "execution_count": null,
      "outputs": []
    },
    {
      "cell_type": "code",
      "source": [
        "print(system)"
      ],
      "metadata": {
        "id": "YjELk2N96hjf"
      },
      "execution_count": null,
      "outputs": []
    },
    {
      "cell_type": "code",
      "source": [
        "prompt = make_llama_3_prompt(user, system)"
      ],
      "metadata": {
        "id": "jsqlejFK6jBV"
      },
      "execution_count": null,
      "outputs": []
    },
    {
      "cell_type": "code",
      "source": [
        "print(llm.generate(prompt, max_new_tokens=200))"
      ],
      "metadata": {
        "id": "7MIygo6i6k9K"
      },
      "execution_count": null,
      "outputs": []
    },
    {
      "cell_type": "code",
      "source": [
        "def get_updated_schema():\n",
        "    return \"\"\"\\\n",
        "0|Team|TEXT eg. \"Toronto Raptors\"\n",
        "1|NAME|TEXT eg. \"Otto Porter Jr.\"\n",
        "2|Jersey|TEXT eg. \"0\" and when null has a value \"NA\"\n",
        "3|POS|TEXT eg. \"PF\"\n",
        "4|AGE|INT eg. \"22\" in years\n",
        "5|HT|TEXT eg. `6' 7\"` or `6' 10\"`\n",
        "6|WT|TEXT eg. \"232 lbs\"\n",
        "7|COLLEGE|TEXT eg. \"Michigan\" and when null has a value \"--\"\n",
        "8|SALARY|TEXT eg. \"$9,945,830\" and when null has a value \"--\"\n",
        "\"\"\""
      ],
      "metadata": {
        "id": "rha0wDyg6maS"
      },
      "execution_count": null,
      "outputs": []
    },
    {
      "cell_type": "code",
      "source": [
        "system = f\"\"\"You are an NBA analyst with 15 years of experience writing complex SQL queries. Consider the nba_roster table with the following schema:\n",
        "{get_updated_schema()}\n",
        "\n",
        "Write a sqlite query to answer the following question. Follow instructions exactly\"\"\""
      ],
      "metadata": {
        "id": "gnVP8gf66oNU"
      },
      "execution_count": null,
      "outputs": []
    },
    {
      "cell_type": "code",
      "source": [
        "prompt = make_llama_3_prompt(user, system)"
      ],
      "metadata": {
        "id": "RwftEt5Q6ps4"
      },
      "execution_count": null,
      "outputs": []
    },
    {
      "cell_type": "code",
      "source": [
        "print(prompt)"
      ],
      "metadata": {
        "id": "4E8dXmQH6rKh"
      },
      "execution_count": null,
      "outputs": []
    },
    {
      "cell_type": "code",
      "source": [
        "print(llm.generate(prompt, max_new_tokens=200))"
      ],
      "metadata": {
        "id": "PtFeYpnq6sqx"
      },
      "execution_count": null,
      "outputs": []
    },
    {
      "cell_type": "markdown",
      "source": [
        "# Structured Output"
      ],
      "metadata": {
        "id": "pSIssySn6u30"
      }
    },
    {
      "cell_type": "code",
      "source": [
        "result = llm.generate(prompt, output_type={\"sqlite_query\": \"str\"}, max_new_tokens=200)"
      ],
      "metadata": {
        "id": "JnuJ6PCD6vvV"
      },
      "execution_count": null,
      "outputs": []
    },
    {
      "cell_type": "code",
      "source": [
        "result"
      ],
      "metadata": {
        "id": "yFMfRANm6yaE"
      },
      "execution_count": null,
      "outputs": []
    },
    {
      "cell_type": "code",
      "source": [
        "df = pd.read_sql(result['sqlite_query'], con=engine)\n",
        "df"
      ],
      "metadata": {
        "id": "QEsR0qSy6z7T"
      },
      "execution_count": null,
      "outputs": []
    },
    {
      "cell_type": "markdown",
      "source": [
        "# Diagnose Hallucinations"
      ],
      "metadata": {
        "id": "ywmJUUdW63sK"
      }
    },
    {
      "cell_type": "markdown",
      "source": [
        "The wrong query looks like this:\n",
        "\n",
        "SELECT NAME, SALARY\n",
        "FROM nba_roster\n",
        "WHERE salary != '--'\n",
        "ORDER BY CAST(SALARY AS REAL) DESC\n",
        "LIMIT 1;\n",
        "The correct query is:\n",
        "\n",
        "SELECT salary, name\n",
        "FROM nba_roster\n",
        "WHERE salary != '--'\n",
        "ORDER BY CAST(REPLACE(REPLACE(salary, '$', ''), ',','') AS INTEGER) DESC\n",
        "LIMIT 1;"
      ],
      "metadata": {
        "id": "imBqeirI66kB"
      }
    },
    {
      "cell_type": "code",
      "source": [
        "query=\"\"\"SELECT salary, name\n",
        "FROM nba_roster\n",
        "WHERE salary != '--'\n",
        "ORDER BY CAST(REPLACE(REPLACE(salary, '$', ''), ',','') AS INTEGER) DESC\n",
        "LIMIT 1;\"\"\"\n",
        "df = pd.read_sql(query, con=engine)\n",
        "print(df)"
      ],
      "metadata": {
        "id": "Ogf0UhFU63cU"
      },
      "execution_count": null,
      "outputs": []
    },
    {
      "cell_type": "markdown",
      "source": [
        "#  Create an Evaluation"
      ],
      "metadata": {
        "id": "CK-3OqxR_u1n"
      }
    },
    {
      "cell_type": "code",
      "source": [
        "from dotenv import load_dotenv\n",
        "_ = load_dotenv()   #load environmental variable LAMINI_API_KEY with key from .env file"
      ],
      "metadata": {
        "id": "5nLYmPCU6z31"
      },
      "execution_count": null,
      "outputs": []
    },
    {
      "cell_type": "code",
      "source": [
        "!cat data/gold-test-set.jsonl"
      ],
      "metadata": {
        "id": "MvZtC0nL_yBe"
      },
      "execution_count": null,
      "outputs": []
    },
    {
      "cell_type": "code",
      "source": [
        "question = \"What is the median weight in the NBA?\""
      ],
      "metadata": {
        "id": "XyjWm9O8_0IZ"
      },
      "execution_count": null,
      "outputs": []
    },
    {
      "cell_type": "code",
      "source": [
        "import lamini"
      ],
      "metadata": {
        "id": "afRe1WIl_0E9"
      },
      "execution_count": null,
      "outputs": []
    },
    {
      "cell_type": "code",
      "source": [
        "from util.get_schema import get_schema\n",
        "from util.make_llama_3_prompt import make_llama_3_prompt"
      ],
      "metadata": {
        "id": "KPuIIY4t_z3X"
      },
      "execution_count": null,
      "outputs": []
    },
    {
      "cell_type": "code",
      "source": [
        "llm = lamini.Lamini(model_name=\"meta-llama/Meta-Llama-3-8B-Instruct\")"
      ],
      "metadata": {
        "id": "mftoWAnn_zpz"
      },
      "execution_count": null,
      "outputs": []
    },
    {
      "cell_type": "code",
      "source": [
        "system = f\"\"\"You are an NBA analyst with 15 years of experience writing complex SQL queries. Consider the nba_roster table with the following schema:\n",
        "{get_schema()}\n",
        "\n",
        "Write a sqlite query to answer the following question. Follow instructions exactly\"\"\"\n",
        "prompt = make_llama_3_prompt(question, system)"
      ],
      "metadata": {
        "id": "o3pPZSvg_599"
      },
      "execution_count": null,
      "outputs": []
    },
    {
      "cell_type": "code",
      "source": [
        "generated_query = llm.generate(prompt, output_type={\"sqlite_query\": \"str\"}, max_new_tokens=200)\n",
        "print(generated_query)"
      ],
      "metadata": {
        "id": "mKA0kU--_56Y"
      },
      "execution_count": null,
      "outputs": []
    },
    {
      "cell_type": "code",
      "source": [
        "import pandas as pd\n",
        "import sqlite3\n",
        "engine = sqlite3.connect(\"./nba_roster.db\")"
      ],
      "metadata": {
        "id": "Rn-2YaIF_53x"
      },
      "execution_count": null,
      "outputs": []
    },
    {
      "cell_type": "code",
      "source": [
        "df = pd.read_sql(generated_query['sqlite_query'], con=engine)"
      ],
      "metadata": {
        "id": "ce3wcuEy_505"
      },
      "execution_count": null,
      "outputs": []
    },
    {
      "cell_type": "code",
      "source": [
        "import pandas as pd\n",
        "import sqlite3\n",
        "engine = sqlite3.connect(\"./nba_roster.db\")\n",
        "try:\n",
        "    df = pd.read_sql(generated_query['sqlite_query'], con=engine)\n",
        "    print(df)\n",
        "except Exception as e:\n",
        "    print(e)"
      ],
      "metadata": {
        "id": "egwpywGLAA_Y"
      },
      "execution_count": null,
      "outputs": []
    },
    {
      "cell_type": "markdown",
      "source": [
        "Try Agent Reflection to see if that can improve the query."
      ],
      "metadata": {
        "id": "uT9Bsf9UAC87"
      }
    },
    {
      "cell_type": "code",
      "source": [
        "reflection = f\"Question: {question}. Query: {generated_query['sqlite_query']}. This query is invalid (gets the error Execution failed on sql 'SELECT AVG(CAST(SUBSTR(WT, INSTR(WT,'') + 1) AS INTEGER) FROM nba_roster WHERE WT IS NOT NULL': near \\\"FROM\\\": syntax error), so it cannot answer the question. Write a corrected sqlite query.\""
      ],
      "metadata": {
        "id": "Nn7L-a4eADmZ"
      },
      "execution_count": null,
      "outputs": []
    },
    {
      "cell_type": "code",
      "source": [
        "reflection_prompt = make_llama_3_prompt(reflection, system)\n",
        "reflection_prompt"
      ],
      "metadata": {
        "id": "iN-FLCvKAGPt"
      },
      "execution_count": null,
      "outputs": []
    },
    {
      "cell_type": "code",
      "source": [
        "reflection_query = llm.generate(reflection_prompt, output_type={\"sqlite_query\": \"str\"}, max_new_tokens=200)\n",
        "reflection_query"
      ],
      "metadata": {
        "id": "bEQYpv2NAGMO"
      },
      "execution_count": null,
      "outputs": []
    },
    {
      "cell_type": "code",
      "source": [
        "try:\n",
        "    df = pd.read_sql(reflection_query['sqlite_query'], con=engine)\n",
        "    print(df)\n",
        "except Exception as e:\n",
        "    print(e)"
      ],
      "metadata": {
        "id": "QMlq8exaANpG"
      },
      "execution_count": null,
      "outputs": []
    },
    {
      "cell_type": "markdown",
      "source": [
        "Look at the right answer"
      ],
      "metadata": {
        "id": "0SU6GkgTAP1u"
      }
    },
    {
      "cell_type": "code",
      "source": [
        "correct_sql = \"select CAST(SUBSTR(WT, 1, INSTR(WT,' ')) as INTEGER) as percentile from nba_roster order by percentile limit 1 offset (select count(*) from nba_roster)/2;\""
      ],
      "metadata": {
        "id": "njhdHPMaAPmI"
      },
      "execution_count": null,
      "outputs": []
    },
    {
      "cell_type": "code",
      "source": [
        "correct_sql"
      ],
      "metadata": {
        "id": "kq7MCxJYANlw"
      },
      "execution_count": null,
      "outputs": []
    },
    {
      "cell_type": "code",
      "source": [
        "df_corrected = pd.read_sql(correct_sql, con=engine)\n",
        "print(df_corrected)"
      ],
      "metadata": {
        "id": "UrIzI5GoAUmn"
      },
      "execution_count": null,
      "outputs": []
    },
    {
      "cell_type": "markdown",
      "source": [
        "# Evaluate over a larger dataset"
      ],
      "metadata": {
        "id": "cPiVWn9DAXRG"
      }
    },
    {
      "cell_type": "code",
      "source": [
        "import logging\n",
        "import os\n",
        "from datetime import datetime\n",
        "from pprint import pprint\n",
        "from typing import AsyncIterator, Iterator, Union\n",
        "import sqlite3\n",
        "from tqdm import tqdm\n",
        "\n",
        "import pandas as pd\n",
        "import jsonlines\n",
        "from lamini.generation.base_prompt_object import PromptObject\n",
        "from lamini.generation.generation_node import GenerationNode\n",
        "from lamini.generation.base_prompt_object import PromptObject\n",
        "from lamini.generation.generation_pipeline import GenerationPipeline\n",
        "from util.get_schema import get_schema\n",
        "from util.make_llama_3_prompt import make_llama_3_prompt\n",
        "from util.setup_logging import setup_logging\n",
        "\n",
        "logger = logging.getLogger(__name__)\n",
        "engine = sqlite3.connect(\"./nba_roster.db\")\n",
        "setup_logging()\n",
        "\n",
        "class Args:\n",
        "    def __init__(self,\n",
        "                 max_examples=100,\n",
        "                 sql_model_name=\"meta-llama/Meta-Llama-3-8B-Instruct\",\n",
        "                 gold_file_name=\"gold-test-set.jsonl\",\n",
        "                 training_file_name=\"archive/generated_queries.jsonl\",\n",
        "                 num_to_generate=10):\n",
        "        self.sql_model_name = sql_model_name\n",
        "        self.max_examples = max_examples\n",
        "        self.gold_file_name = gold_file_name\n",
        "        self.training_file_name = training_file_name\n",
        "        self.num_to_generate = num_to_generate\n"
      ],
      "metadata": {
        "id": "16W1FmGZAUjK"
      },
      "execution_count": null,
      "outputs": []
    },
    {
      "cell_type": "code",
      "source": [
        "def load_gold_dataset(args):\n",
        "    path = f\"data/{args.gold_file_name}\"\n",
        "\n",
        "    with jsonlines.open(path) as reader:\n",
        "        for index, obj in enumerate(reversed(list(reader))):\n",
        "            if index >= args.max_examples:\n",
        "                break\n",
        "            yield PromptObject(prompt=\"\", data=obj)"
      ],
      "metadata": {
        "id": "s-fVtTcEAUg3"
      },
      "execution_count": null,
      "outputs": []
    },
    {
      "cell_type": "code",
      "source": [
        "path = \"data/gold-test-set.jsonl\"\n",
        "\n",
        "with jsonlines.open(path) as reader:\n",
        "    data = [obj for obj in reader]"
      ],
      "metadata": {
        "id": "gfT1fQioAUeP"
      },
      "execution_count": null,
      "outputs": []
    },
    {
      "cell_type": "code",
      "source": [
        "datapoint = data[4]\n",
        "datapoint"
      ],
      "metadata": {
        "id": "b7TlHaO2AfHW"
      },
      "execution_count": null,
      "outputs": []
    },
    {
      "cell_type": "code",
      "source": [
        "datapoint = data[7]\n",
        "datapoint"
      ],
      "metadata": {
        "id": "AETn0rZQAfDw"
      },
      "execution_count": null,
      "outputs": []
    },
    {
      "cell_type": "code",
      "source": [
        "system = \"You are an NBA analyst with 15 years of experience writing complex SQL queries.\\n\"\n",
        "system += \"Consider the nba_roster table with the following schema:\\n\"\n",
        "system += get_schema() + \"\\n\"\n",
        "system += (\n",
        "    \"Write a sqlite SQL query that would help you answer the following question:\\n\"\n",
        ")\n",
        "user = datapoint[\"question\"]\n",
        "prompt = make_llama_3_prompt(user, system)\n",
        "generated_sql = llm.generate(prompt, output_type={\"sqlite_query\": \"str\"}, max_new_tokens=200)\n",
        "print(generated_sql)"
      ],
      "metadata": {
        "id": "j90JR7GXAfA9"
      },
      "execution_count": null,
      "outputs": []
    },
    {
      "cell_type": "code",
      "source": [
        "df = pd.read_sql(generated_sql['sqlite_query'], con=engine)\n",
        "print(df)"
      ],
      "metadata": {
        "id": "2uVuXTUjAmdo"
      },
      "execution_count": null,
      "outputs": []
    },
    {
      "cell_type": "code",
      "source": [
        "query_succeeded = False\n",
        "try:\n",
        "    df = pd.read_sql(generated_sql['sqlite_query'], con=engine)\n",
        "    query_succeeded = True\n",
        "    print(\"Query is valid\")\n",
        "except Exception as e:\n",
        "    print(\n",
        "        f\"Failed to run SQL query: {generated_sql}\"\n",
        "    )"
      ],
      "metadata": {
        "id": "ilU95Wb3AmaS"
      },
      "execution_count": null,
      "outputs": []
    },
    {
      "cell_type": "code",
      "source": [
        "reference_sql = datapoint[\"sql\"]\n",
        "ref_df = pd.read_sql(reference_sql, con=engine)\n",
        "print(ref_df)"
      ],
      "metadata": {
        "id": "_xb6KUzHAmXp"
      },
      "execution_count": null,
      "outputs": []
    },
    {
      "cell_type": "code",
      "source": [
        "# Here's how to wrap that all up in a runnable class\n",
        "\n",
        "class QueryStage(GenerationNode):\n",
        "    def __init__(self, model_name):\n",
        "        super().__init__(\n",
        "            model_name=model_name,\n",
        "            max_new_tokens=200,\n",
        "        )\n",
        "\n",
        "    def generate(\n",
        "        self,\n",
        "        prompt: Union[Iterator[PromptObject], AsyncIterator[PromptObject]],\n",
        "        *args,\n",
        "        **kwargs,\n",
        "    ):\n",
        "        results = super().generate(\n",
        "            prompt,\n",
        "            output_type={\"sqlite_query\": \"str\"},\n",
        "            *args,\n",
        "            **kwargs,\n",
        "        )\n",
        "        return results\n",
        "\n",
        "\n",
        "    def postprocess(self, obj: PromptObject):\n",
        "        # Run both the generated and reference (Gold Dataset) SQL queries\n",
        "        # Assessing whether the SQL queries succeeded in hitting the database (not correctness yet!)\n",
        "\n",
        "        query_succeeded = False\n",
        "\n",
        "        try:\n",
        "            logger.error(f\"Running SQL query '{obj.response['sqlite_query']}'\")\n",
        "            obj.data[\"generated_query\"] = obj.response[\"sqlite_query\"]\n",
        "            df = pd.read_sql(obj.response[\"sqlite_query\"], con=engine)\n",
        "            obj.data['df'] = df\n",
        "            logger.error(f\"Got data: {df}\")\n",
        "            query_succeeded = True\n",
        "\n",
        "        except Exception as e:\n",
        "            logger.error(\n",
        "                f\"Failed to run SQL query: {obj.response['sqlite_query']}\"\n",
        "            )\n",
        "\n",
        "        logger.info(f\"Running reference SQL query '{obj.data['sql']}'\")\n",
        "        df = pd.read_sql(obj.data[\"sql\"], con=engine)\n",
        "        logger.info(f\"Got data: {df}\")\n",
        "        obj.data['reference_df'] = df\n",
        "\n",
        "        logger.info(f\"For question: {obj.data['question']}\")\n",
        "        logger.info(f\"For query: {obj.response['sqlite_query']}\")\n",
        "\n",
        "        obj.data[\"query_succeeded\"] = query_succeeded\n",
        "\n",
        "    def preprocess(self, obj: PromptObject):\n",
        "        new_prompt = make_llama_3_prompt(**self.make_prompt(obj.data))\n",
        "        obj.prompt = new_prompt\n",
        "\n",
        "    def make_prompt(self, data: dict):\n",
        "        system = \"You are an NBA analyst with 15 years of experience writing complex SQL queries.\\n\"\n",
        "        system += \"Consider the nba_roster table with the following schema:\\n\"\n",
        "        system += get_schema() + \"\\n\"\n",
        "        system += (\n",
        "            \"Write a sqlite SQL query that would help you answer the following question:\\n\"\n",
        "        )\n",
        "        user = data[\"question\"]\n",
        "        return {\n",
        "            \"user\": user,\n",
        "            \"system\": system,\n",
        "        }"
      ],
      "metadata": {
        "id": "fGiFagKBAmU-"
      },
      "execution_count": null,
      "outputs": []
    },
    {
      "cell_type": "markdown",
      "source": [
        "Compare strings."
      ],
      "metadata": {
        "id": "re9YbqZxAu39"
      }
    },
    {
      "cell_type": "code",
      "source": [
        "str(df).lower() == str(ref_df).lower()"
      ],
      "metadata": {
        "id": "yANof9-pAtYw"
      },
      "execution_count": null,
      "outputs": []
    },
    {
      "cell_type": "markdown",
      "source": [
        "Use an LLM to compare."
      ],
      "metadata": {
        "id": "LE4hH2xvAxVr"
      }
    },
    {
      "cell_type": "code",
      "source": [
        "system_prompt = \"Compare the following two dataframes. They are similar if they are almost identical, or if they convey the same information about the nba_roster dataset\"\n",
        "system_prompt += \"Respond with valid JSON {'explanation' : str, 'similar' : bool}\"\n",
        "system_prompt"
      ],
      "metadata": {
        "id": "Itsl2gftAtVK"
      },
      "execution_count": null,
      "outputs": []
    },
    {
      "cell_type": "code",
      "source": [
        "user_prompt = (\n",
        "    f\"========== Dataframe 1 =========\\n{str(df).lower()}\\n\\n\"\n",
        ")\n",
        "user_prompt += (\n",
        "    f\"========== Dataframe 2 =========\\n{str(ref_df).lower()}\\n\\n\"\n",
        ")\n",
        "user_prompt += f\"Can you tell me if these dataframes are similar?\"\n"
      ],
      "metadata": {
        "id": "2LFb56U4AtSx"
      },
      "execution_count": null,
      "outputs": []
    },
    {
      "cell_type": "code",
      "source": [
        "llm_similarity_prompt = make_llama_3_prompt(user_prompt, system_prompt)\n"
      ],
      "metadata": {
        "id": "SxY8yPf3AtQa"
      },
      "execution_count": null,
      "outputs": []
    },
    {
      "cell_type": "code",
      "source": [
        "llm_similarity = llm.generate(llm_similarity_prompt, output_type={\"explanation\": \"str\", \"similar\": \"bool\"}, max_new_tokens=200)"
      ],
      "metadata": {
        "id": "dHWT7lppAtN8"
      },
      "execution_count": null,
      "outputs": []
    },
    {
      "cell_type": "code",
      "source": [
        "llm_similarity"
      ],
      "metadata": {
        "id": "yeupzta9AtLW"
      },
      "execution_count": null,
      "outputs": []
    },
    {
      "cell_type": "code",
      "source": [
        "str(df).lower() == str(ref_df).lower() or llm_similarity[\"similar\"]"
      ],
      "metadata": {
        "id": "qU0bJy4vA7Qh"
      },
      "execution_count": null,
      "outputs": []
    },
    {
      "cell_type": "code",
      "source": [
        "# How to wrap it up in a class\n",
        "\n",
        "class ScoreStage(GenerationNode):\n",
        "    def __init__(self):\n",
        "        super().__init__(\n",
        "            model_name=\"meta-llama/Meta-Llama-3-8B-Instruct\",\n",
        "            max_new_tokens=150,\n",
        "        )\n",
        "\n",
        "    def generate(\n",
        "        self,\n",
        "        prompt: Union[Iterator[PromptObject], AsyncIterator[PromptObject]],\n",
        "        *args,\n",
        "        **kwargs,\n",
        "    ):\n",
        "        logger.debug(\"ScoreStage Generate\")\n",
        "        results = super().generate(\n",
        "            prompt,\n",
        "            output_type={\"explanation\": \"str\", \"similar\": [\"true\", \"false\"]},\n",
        "            *args,\n",
        "            **kwargs,\n",
        "        )\n",
        "        logger.debug(f\"ScoreStage Results {results}\")\n",
        "\n",
        "        return results\n",
        "\n",
        "    def preprocess(self, obj: PromptObject):\n",
        "        obj.prompt = make_llama_3_prompt(**self.make_prompt(obj))\n",
        "        logger.info(f\"Scoring Stage Prompt:\\n{obj.prompt}\")\n",
        "\n",
        "    def postprocess(self, obj: PromptObject):\n",
        "        logger.info(f\"Postprocess\")\n",
        "        obj.data['is_matching'] = self.is_matching(obj.data, obj.response)\n",
        "        obj.data['explanation'] = obj.response[\"explanation\"]\n",
        "        obj.data['similar'] = obj.response[\"similar\"] == \"true\"\n",
        "\n",
        "\n",
        "    def is_matching(self, data, response):\n",
        "        return (str(data.get('df',\"None\")).lower() == str(data['reference_df']).lower()\n",
        "                or response['similar'] == \"true\")\n",
        "\n",
        "    def make_prompt(self, obj: PromptObject):\n",
        "        # Your evaluation model compares SQL output from the generated and reference SQL queries, using another LLM in the pipeline\n",
        "        system_prompt = \"Compare the following two dataframes. They are similar if they are almost identical, or if they convey the same information about the nba_roster dataset\"\n",
        "        system_prompt += \"Respond with valid JSON {'explanation' : str, 'similar' : bool}\"\n",
        "        user_prompt = (\n",
        "            f\"========== Dataframe 1 =========\\n{str(obj.data.get('df','None')).lower()}\\n\\n\"\n",
        "        )\n",
        "        user_prompt += (\n",
        "            f\"========== Dataframe 2 =========\\n{str(obj.data['reference_df']).lower()}\\n\\n\"\n",
        "        )\n",
        "        user_prompt += f\"Can you tell me if these dataframes are similar?\"\n",
        "        return {\n",
        "            \"system\": system_prompt,\n",
        "            \"user\": user_prompt\n",
        "        }"
      ],
      "metadata": {
        "id": "xH2ebwHZA81K"
      },
      "execution_count": null,
      "outputs": []
    },
    {
      "cell_type": "code",
      "source": [
        "class EvaluationPipeline(GenerationPipeline):\n",
        "    def __init__(self, args):\n",
        "        super().__init__()\n",
        "        self.query_stage = QueryStage(args.sql_model_name)\n",
        "        self.score_stage = ScoreStage()\n",
        "\n",
        "    def forward(self, x):\n",
        "        x = self.query_stage(x)\n",
        "        x = self.score_stage(x)\n",
        "        return x"
      ],
      "metadata": {
        "id": "FPYCY9WQA-pG"
      },
      "execution_count": null,
      "outputs": []
    },
    {
      "cell_type": "code",
      "source": [
        "async def run_eval(dataset, args):\n",
        "    results = await run_evaluation_pipeline(dataset, args)\n",
        "    print(\"Total results:\", len(results))\n",
        "    return results\n",
        "\n",
        "async def run_evaluation_pipeline(dataset, args):\n",
        "    results = EvaluationPipeline(args).call(dataset)\n",
        "    result_list = []\n",
        "\n",
        "    pbar = tqdm(desc=\"Saving results\", unit=\" results\")\n",
        "    async for result in results:\n",
        "        result_list.append(result)\n",
        "        pbar.update()\n",
        "    return result_list"
      ],
      "metadata": {
        "id": "zO1M-w8BBAFN"
      },
      "execution_count": null,
      "outputs": []
    },
    {
      "cell_type": "code",
      "source": [
        "def save_eval_results(results, args):\n",
        "    base_path = \"./data/results\"\n",
        "    now = datetime.now().strftime(\"%Y_%m_%d_%H_%M_%S\")\n",
        "    experiment_name = f\"nba_sql_pipeline_{now}\"\n",
        "    experiment_dir = os.path.join(base_path, experiment_name)\n",
        "    os.makedirs(os.path.join(base_path, experiment_name))\n",
        "\n",
        "    # Write args to file\n",
        "    args_file_name = f\"{experiment_dir}/args.txt\"\n",
        "    with open(args_file_name, \"w\") as writer:\n",
        "        pprint(args.__dict__, writer)\n",
        "\n",
        "\n",
        "    def is_correct(r):\n",
        "        if (\n",
        "            (r.data[\"query_succeeded\"] and r.data['is_matching']) or\n",
        "            r.data[\"generated_query\"] == r.data['sql']\n",
        "        ):\n",
        "            return True\n",
        "        return False\n",
        "\n",
        "    # Write sql results and errors to file\n",
        "    results_file_name = f\"{experiment_dir}/sql_results.jsonl\"\n",
        "    with jsonlines.open(results_file_name, \"w\") as writer:\n",
        "        for result in results:\n",
        "            if not is_correct(result):\n",
        "                continue\n",
        "            writer.write(\n",
        "                {\n",
        "                    \"question\": result.data['question'],\n",
        "                    \"query\": result.data[\"generated_query\"],\n",
        "                    \"query_succeeded\": result.data[\"query_succeeded\"],\n",
        "                    \"reference_sql\": result.data['sql'],\n",
        "                    \"df\": str(result.data.get('df', 'None')),\n",
        "                    \"reference_df\": str(result.data['reference_df']),\n",
        "                    'is_matching': result.data['is_matching'],\n",
        "                    'similar': result.data['similar'],\n",
        "                }\n",
        "            )\n",
        "\n",
        "    results_file_name = f\"{experiment_dir}/sql_errors.jsonl\"\n",
        "    with jsonlines.open(results_file_name, \"w\") as writer:\n",
        "        for result in results:\n",
        "            if is_correct(result):\n",
        "                continue\n",
        "            writer.write(\n",
        "                {\n",
        "                    \"question\": result.data['question'],\n",
        "                    \"query\": result.data[\"generated_query\"],\n",
        "                    \"query_succeeded\": result.data[\"query_succeeded\"],\n",
        "                    \"df\": str(result.data.get('df', 'None')),\n",
        "                    \"reference_df\": str(result.data['reference_df']),\n",
        "                    'is_matching': result.data['is_matching'],\n",
        "                    'similar': result.data['similar'],\n",
        "                }\n",
        "            )\n",
        "\n",
        "    # Write statistics to file\n",
        "    average_sql_succeeded = sum(\n",
        "        [result.data[\"query_succeeded\"] for result in results]\n",
        "    ) / len(results)\n",
        "    average_correct = sum(\n",
        "        [result.data[\"query_succeeded\"] and result.data['is_matching'] for result in results]\n",
        "    ) / len(results)\n",
        "\n",
        "    file_name = f\"{experiment_dir}/summary.txt\"\n",
        "    with open(file_name, \"w\") as writer:\n",
        "        print(f\"Total size of eval dataset: {len(results)}\", file=writer)\n",
        "        print(f\"Total size of eval dataset: {len(results)}\")\n",
        "        print(f\"Percent Valid SQL Syntax: {average_sql_succeeded*100}\", file=writer)\n",
        "        print(f\"Percent Valid SQL Syntax: {average_sql_succeeded*100}\")\n",
        "        print(f\"Percent Correct SQL Query: {average_correct*100}\", file=writer)\n",
        "        print(f\"Percent Correct SQL Query: {average_correct*100}\")\n"
      ],
      "metadata": {
        "id": "aohe31hhBBum"
      },
      "execution_count": null,
      "outputs": []
    },
    {
      "cell_type": "code",
      "source": [
        "args = Args()\n",
        "dataset = load_gold_dataset(args)\n",
        "results = await run_eval(dataset, args)\n",
        "save_eval_results(results, args)"
      ],
      "metadata": {
        "id": "t3cA3qQLBDv6"
      },
      "execution_count": null,
      "outputs": []
    },
    {
      "cell_type": "markdown",
      "source": [
        "# Generate Data & Finetune"
      ],
      "metadata": {
        "id": "cg97X6TFAA97"
      }
    },
    {
      "cell_type": "code",
      "source": [
        "import lamini"
      ],
      "metadata": {
        "id": "FeeCsSSWABj2"
      },
      "execution_count": null,
      "outputs": []
    },
    {
      "cell_type": "code",
      "source": [
        "import logging\n",
        "import random\n",
        "from typing import AsyncIterator, Iterator, Union\n",
        "import sqlite3\n",
        "import copy\n",
        "from tqdm import tqdm\n",
        "\n",
        "import pandas as pd\n",
        "import jsonlines\n",
        "from lamini.generation.base_prompt_object import PromptObject\n",
        "from lamini.generation.generation_node import GenerationNode\n",
        "from lamini.generation.base_prompt_object import PromptObject\n",
        "from lamini.generation.generation_pipeline import GenerationPipeline\n",
        "from util.get_schema import get_schema, get_schema_s\n",
        "from util.make_llama_3_prompt import make_llama_3_prompt\n",
        "from util.setup_logging import setup_logging\n",
        "\n",
        "logger = logging.getLogger(__name__)\n",
        "engine = sqlite3.connect(\"./nba_roster.db\")\n",
        "setup_logging()\n",
        "\n",
        "class Args:\n",
        "    def __init__(self,\n",
        "                 max_examples=100,\n",
        "                 sql_model_name=\"meta-llama/Meta-Llama-3-8B-Instruct\",\n",
        "                 gold_file_name=\"gold-test-set.jsonl\",\n",
        "                 training_file_name=\"generated_queries.jsonl\",\n",
        "                 num_to_generate=10):\n",
        "        self.sql_model_name = sql_model_name\n",
        "        self.max_examples = max_examples\n",
        "        self.gold_file_name = gold_file_name\n",
        "        self.training_file_name = training_file_name\n",
        "        self.num_to_generate = num_to_generate"
      ],
      "metadata": {
        "id": "0khCTQVPAE2e"
      },
      "execution_count": null,
      "outputs": []
    },
    {
      "cell_type": "markdown",
      "source": [
        "Working Backwards from what you have:\n",
        "First: From Scheme and example, generate new SQL queries¶"
      ],
      "metadata": {
        "id": "COhsJtyjAHWV"
      }
    },
    {
      "cell_type": "code",
      "source": [
        "system = \"You are an NBA analyst with 15 years of experience writing complex SQL queries.\\n\"\n",
        "system += (\n",
        "    \"Consider a table called 'nba_roster' with the following schema (columns)\\n\"\n",
        ")\n",
        "system += get_schema_s()\n",
        "system += \"Consider the following questions, and queries used to answer them:\\n\"\n"
      ],
      "metadata": {
        "id": "Ps_IkysyAEy9"
      },
      "execution_count": null,
      "outputs": []
    },
    {
      "cell_type": "code",
      "source": [
        "system"
      ],
      "metadata": {
        "id": "rlV6IsLUAEwr"
      },
      "execution_count": null,
      "outputs": []
    },
    {
      "cell_type": "code",
      "source": [
        "question = \"\"\"What is the median weight in the NBA?\"\"\"\n",
        "sql = \"select CAST(SUBSTR(WT, 1, INSTR(WT,' ')) as INTEGER) as percentile from nba_roster order by percentile limit 1 offset (select count(*) from nba_roster)/2;\"\n",
        "\n",
        "system += \"Question: \" + question + \"\\n\"\n",
        "system += \"Query: \" + sql + \"\\n\"\n"
      ],
      "metadata": {
        "id": "m28BekrsAEuS"
      },
      "execution_count": null,
      "outputs": []
    },
    {
      "cell_type": "code",
      "source": [
        "print(system)"
      ],
      "metadata": {
        "id": "juUYQGM9AEr2"
      },
      "execution_count": null,
      "outputs": []
    },
    {
      "cell_type": "code",
      "source": [
        "user = \"Write two queries that are similar but different to those above.\\n\"\n",
        "user += \"Format the queries as a JSON object, i.e.\\n\"\n",
        "user += '{ \"explanation\": str, \"sql_query_1\" : str, \"sql_query_2\": str }.\\n'\n",
        "print(user)"
      ],
      "metadata": {
        "id": "pMF7-OcHAEpf"
      },
      "execution_count": null,
      "outputs": []
    },
    {
      "cell_type": "code",
      "source": [
        "user += \"First write an explanation of why you decided to write these new queries in about 3-5 sentences, then write valid sqlite SQL queries for each of the 2 new queries. Make sure each query is complete and ends with a ;\\n\""
      ],
      "metadata": {
        "id": "7_1YEmkPARqa"
      },
      "execution_count": null,
      "outputs": []
    },
    {
      "cell_type": "code",
      "source": [
        "print(user)"
      ],
      "metadata": {
        "id": "eVolAJgsARm9"
      },
      "execution_count": null,
      "outputs": []
    },
    {
      "cell_type": "code",
      "source": [
        "prompt = make_llama_3_prompt(user, system)"
      ],
      "metadata": {
        "id": "8Za0AInyARkj"
      },
      "execution_count": null,
      "outputs": []
    },
    {
      "cell_type": "code",
      "source": [
        "llm = lamini.Lamini(model_name=\"meta-llama/Meta-Llama-3-8B-Instruct\")\n",
        "result = llm.generate(prompt, output_type={ \"explanation\": \"str\", \"sql_query_1\" : \"str\", \"sql_query_2\": \"str\" }, max_new_tokens=200)\n",
        "print(result)"
      ],
      "metadata": {
        "id": "puRl2_GmARiO"
      },
      "execution_count": null,
      "outputs": []
    },
    {
      "cell_type": "code",
      "source": [
        "def check_sql_query(query):\n",
        "    try:\n",
        "        pd.read_sql(query, con=engine)\n",
        "    except Exception as e:\n",
        "        logger.debug(f\"Error in SQL query: {e}\")\n",
        "        return False\n",
        "\n",
        "    logger.info(f\"SQL query {query} is valid\")\n",
        "\n",
        "    return True"
      ],
      "metadata": {
        "id": "pWMPI7y9ARfh"
      },
      "execution_count": null,
      "outputs": []
    },
    {
      "cell_type": "code",
      "source": [
        "check_sql_query(result[\"sql_query_1\"])"
      ],
      "metadata": {
        "id": "Y6VCgs2mAaOT"
      },
      "execution_count": null,
      "outputs": []
    },
    {
      "cell_type": "code",
      "source": [
        "check_sql_query(result[\"sql_query_2\"])"
      ],
      "metadata": {
        "id": "WNOKP-qSAaLS"
      },
      "execution_count": null,
      "outputs": []
    },
    {
      "cell_type": "code",
      "source": [
        "# Wrap it all up together in a class\n",
        "\n",
        "class ModelStage(GenerationNode):\n",
        "    def __init__(self):\n",
        "        super().__init__(\n",
        "            model_name=\"meta-llama/Meta-Llama-3-8B-Instruct\",\n",
        "            max_new_tokens=300,\n",
        "        )\n",
        "\n",
        "    def generate(\n",
        "        self,\n",
        "        prompt: Union[Iterator[PromptObject], AsyncIterator[PromptObject]],\n",
        "        *args,\n",
        "        **kwargs,\n",
        "    ):\n",
        "        prompt = self.add_template(prompt)\n",
        "\n",
        "        results = super().generate(\n",
        "            prompt,\n",
        "            output_type={\n",
        "                \"explanation\": \"str\",\n",
        "                \"sql_query_1\": \"str\",\n",
        "                \"sql_query_2\": \"str\",\n",
        "            },\n",
        "            *args,\n",
        "            **kwargs,\n",
        "        )\n",
        "\n",
        "        return results\n",
        "\n",
        "    async def add_template(self, prompts):\n",
        "        async for prompt in prompts:\n",
        "            new_prompt = make_llama_3_prompt(**self.make_prompt(prompt.data))\n",
        "            yield PromptObject(prompt=new_prompt, data=prompt.data)\n",
        "\n",
        "    async def process_results(self, results):\n",
        "        async for result in results:\n",
        "            if result is None:\n",
        "                continue\n",
        "\n",
        "            if result.response is None:\n",
        "                continue\n",
        "\n",
        "            logger.info(\"=====================================\")\n",
        "            logger.info(f\"Generated query 1: {result.response['sql_query_1']}\")\n",
        "            logger.info(f\"Generated query 2: {result.response['sql_query_2']}\")\n",
        "            logger.info(\"=====================================\")\n",
        "\n",
        "            if self.check_sql_query(result.response[\"sql_query_1\"]):\n",
        "                new_result = PromptObject(prompt=\"\", data=copy.deepcopy(result.data))\n",
        "                new_result.data.generated_sql_query = result.response[\"sql_query_1\"]\n",
        "                yield new_result\n",
        "\n",
        "            if self.check_sql_query(result.response[\"sql_query_2\"]):\n",
        "                new_result = PromptObject(prompt=\"\", data=copy.deepcopy(result.data))\n",
        "                new_result.data.generated_sql_query = result.response[\"sql_query_2\"]\n",
        "                yield new_result\n",
        "\n",
        "    def make_prompt(self, data):\n",
        "        system = \"You are an NBA analyst with 15 years of experience writing complex SQL queries.\\n\"\n",
        "        system += (\n",
        "            \"Consider a table called 'nba_roster' with the following schema (columns)\\n\"\n",
        "        )\n",
        "        system += get_schema()\n",
        "        system += \"Consider the following questions, and queries used to answer them:\\n\"\n",
        "        for example in data.sample:\n",
        "            system += \"Question: \" + example[\"question\"] + \"\\n\"\n",
        "            system += \"Query: \" + example[\"sql\"] + \"\\n\"\n",
        "\n",
        "        # Important: generate relevant queries to your reference data\n",
        "        # Ideally, close to those that are failing so you can show the model examples of how to do it right!\n",
        "        user = \"Write two queries that are similar but different to those above.\\n\"\n",
        "        user += \"Format the queries as a JSON object, i.e.\\n\"\n",
        "        user += '{ \"explanation\": str, \"sql_query_1\" : str, \"sql_query_2\": str }.\\n'\n",
        "\n",
        "        # Next, use Chain of Thought (CoT) and prompt-engineering to help with generating SQL queries\n",
        "        user += \"First write an explanation of why you decided to write these new queries in about 3-5 sentences, then write valid sqlite SQL queries for each of the 2 new queries. Make sure each query is complete and ends with a ;\\n\"\n",
        "\n",
        "        return {\"system\": system, \"user\": user}\n",
        "\n",
        "    def check_sql_query(self, query):\n",
        "        try:\n",
        "            pd.read_sql(query, con=engine)\n",
        "        except Exception as e:\n",
        "            logger.debug(f\"Error in SQL query: {e}\")\n",
        "            return False\n",
        "\n",
        "        logger.info(f\"SQL query {query} is valid\")\n",
        "\n",
        "        return True"
      ],
      "metadata": {
        "id": "vSn1ONMoAaIr"
      },
      "execution_count": null,
      "outputs": []
    },
    {
      "cell_type": "markdown",
      "source": [
        "Second: Now that you have queries, generate questions for those queries"
      ],
      "metadata": {
        "id": "_w63Y9JtAgKh"
      }
    },
    {
      "cell_type": "code",
      "source": [
        "system = \"You are an NBA analyst with 15 years of experience writing complex SQL queries.\\n\"\n",
        "system += (\n",
        "    \"Consider a table called 'nba_roster' with the following schema (columns)\\n\"\n",
        ")\n",
        "system += get_schema() + \"\\n\"\n",
        "system += \"Queries, and questions that they are used to answer:\\n\"\n",
        "\n",
        "example_question = \"\"\"What is the median weight in the NBA?\"\"\"\n",
        "example_sql = \"select CAST(SUBSTR(WT, 1, INSTR(WT,' ')) as INTEGER) as percentile from nba_roster order by percentile limit 1 offset (select count(*) from nba_roster)/2;\"\n",
        "\n",
        "system += \"Question: \" + example_question + \"\\n\"\n",
        "system += \"Query: \" + example_sql + \"\\n\"\n"
      ],
      "metadata": {
        "id": "-MJkSjHrAhIg"
      },
      "execution_count": null,
      "outputs": []
    },
    {
      "cell_type": "code",
      "source": [
        "generated_sql = result[\"sql_query_2\"]"
      ],
      "metadata": {
        "id": "uVkuDk8SAkFz"
      },
      "execution_count": null,
      "outputs": []
    },
    {
      "cell_type": "code",
      "source": [
        "user = \"Now consider the following query.\\n\"\n",
        "user += \"Query: \" + generated_sql + \"\\n\"\n",
        "user += \"Write a question that this query could be used to answer.\\n\"\n"
      ],
      "metadata": {
        "id": "7-QMT7FBAkCQ"
      },
      "execution_count": null,
      "outputs": []
    },
    {
      "cell_type": "code",
      "source": [
        "user += \"Format your response as a JSON object, i.e.\\n\"\n",
        "user += '{ \"explanation\": str, \"question\": str }.\\n'\n",
        "\n",
        "user += \"First write an explanation in about 3-5 sentences, then write a one sentence question.\\n\"\n"
      ],
      "metadata": {
        "id": "7J8VrIJ4Aj_b"
      },
      "execution_count": null,
      "outputs": []
    },
    {
      "cell_type": "code",
      "source": [
        "prompt = make_llama_3_prompt(user, system)\n",
        "result = llm.generate(prompt, output_type={ \"explanation\": \"str\", \"question\" : \"str\" }, max_new_tokens=200)\n",
        "print(result)"
      ],
      "metadata": {
        "id": "PFAToXO_Aoja"
      },
      "execution_count": null,
      "outputs": []
    },
    {
      "cell_type": "code",
      "source": [
        "# Wrap it all up together in a class which generates a question\n",
        "# given a query\n",
        "\n",
        "class QuestionStage(GenerationNode):\n",
        "    def __init__(self):\n",
        "        super().__init__(\n",
        "            model_name=\"meta-llama/Meta-Llama-3-8B-Instruct\",\n",
        "            max_new_tokens=150,\n",
        "        )\n",
        "\n",
        "    def generate(\n",
        "        self,\n",
        "        prompt: Union[Iterator[PromptObject], AsyncIterator[PromptObject]],\n",
        "        *args,\n",
        "        **kwargs,\n",
        "    ):\n",
        "        results = super().generate(\n",
        "            prompt,\n",
        "            output_type={\n",
        "                \"explanation\": \"str\",\n",
        "                \"question\": \"str\",\n",
        "            },\n",
        "            *args,\n",
        "            **kwargs,\n",
        "        )\n",
        "        return results\n",
        "\n",
        "    def preprocess(self, obj: PromptObject):\n",
        "        new_prompt = make_llama_3_prompt(**self.make_question_prompt(obj.data))\n",
        "        obj.prompt = new_prompt\n",
        "\n",
        "    def make_question_prompt(self, data):\n",
        "        system = \"You are an NBA analyst with 15 years of experience writing complex SQL queries.\\n\"\n",
        "        system += (\n",
        "            \"Consider a table called 'nba_roster' with the following schema (columns)\\n\"\n",
        "        )\n",
        "        system += get_schema() + \"\\n\"\n",
        "        system += \"Queries, and questions that they are used to answer:\\n\"\n",
        "        for example in data.sample:\n",
        "            system += \"Query: \" + example[\"sql\"] + \"\\n\"\n",
        "            system += \"Question: \" + example[\"question\"] + \"\\n\"\n",
        "\n",
        "        user = \"Now consider the following query.\\n\"\n",
        "        user += \"Query: \" + data.generated_sql_query + \"\\n\"\n",
        "        user += \"Write a question that this query could be used to answer.\\n\"\n",
        "\n",
        "        # Using Chain of Thought (CoT) again\n",
        "        # This time you can do it programmatically with function calling, so you can easily extract a question out of the JSON object\n",
        "        user += \"Format your response as a JSON object, i.e.\\n\"\n",
        "        user += '{ \"explanation\": str, \"question\": str }.\\n'\n",
        "\n",
        "        user += \"First write an explanation in about 3-5 sentences, then write a one sentence question.\\n\"\n",
        "\n",
        "        return {\"system\": system, \"user\": user}\n"
      ],
      "metadata": {
        "id": "AKaN07KfAogE"
      },
      "execution_count": null,
      "outputs": []
    },
    {
      "cell_type": "code",
      "source": [
        "class QueryGenPipeline(GenerationPipeline):\n",
        "    def __init__(self):\n",
        "        super().__init__()\n",
        "        self.model_stage = ModelStage()\n",
        "        self.question_stage = QuestionStage()\n",
        "\n",
        "    def forward(self, x):\n",
        "        x = self.model_stage(x)\n",
        "        x = self.question_stage(x)\n",
        "        return x"
      ],
      "metadata": {
        "id": "Og9JADpSAodJ"
      },
      "execution_count": null,
      "outputs": []
    },
    {
      "cell_type": "code",
      "source": [
        "async def run_query_gen_pipeline(gold_queries):\n",
        "    return QueryGenPipeline().call(gold_queries)"
      ],
      "metadata": {
        "id": "tUani4OfAoaW"
      },
      "execution_count": null,
      "outputs": []
    },
    {
      "cell_type": "code",
      "source": [
        "# Generate N samples, for every example in the gold dataset\n",
        "\n",
        "all_examples = []\n",
        "\n",
        "async def load_gold_queries(args):\n",
        "    path = f\"data/{args.gold_file_name}\"\n",
        "\n",
        "    with jsonlines.open(path) as reader:\n",
        "        global all_examples\n",
        "\n",
        "        all_examples = [obj for obj in reader]\n",
        "\n",
        "    sample_count = args.num_to_generate\n",
        "    sample_size = 3\n",
        "\n",
        "    random.seed(42)\n",
        "\n",
        "    for i in range(sample_count):\n",
        "        example_sample = ExampleSample(random.sample(all_examples, sample_size), i)\n",
        "        yield PromptObject(prompt=\"\", data=example_sample)\n",
        "\n",
        "\n",
        "class ExampleSample:\n",
        "    def __init__(self, sample, index):\n",
        "        self.sample = sample\n",
        "        self.index = index"
      ],
      "metadata": {
        "id": "grLVftNjAvqT"
      },
      "execution_count": null,
      "outputs": []
    },
    {
      "cell_type": "code",
      "source": [
        "async def save_generation_results(results, args):\n",
        "    path = f\"data/training_data/{args.training_file_name}\"\n",
        "\n",
        "    pbar = tqdm(desc=\"Saving results\", unit=\" results\")\n",
        "    with jsonlines.open(path, \"w\") as writer:\n",
        "\n",
        "        async for result in results:\n",
        "            writer.write(\n",
        "                {\n",
        "                    \"question\": result.response[\"question\"],\n",
        "                    \"sql\": result.data.generated_sql_query,\n",
        "                }\n",
        "            )\n",
        "            pbar.update()\n",
        "\n",
        "        for example in all_examples:\n",
        "            writer.write(example)\n",
        "            pbar.update()"
      ],
      "metadata": {
        "id": "TJzt1hd9Avnv"
      },
      "execution_count": null,
      "outputs": []
    },
    {
      "cell_type": "code",
      "source": [
        "!cat \"data/training_data/archive/generated_queries.jsonl\""
      ],
      "metadata": {
        "id": "aoMX4P6cAvk8"
      },
      "execution_count": null,
      "outputs": []
    },
    {
      "cell_type": "markdown",
      "source": [
        "# Round of finetuning\n",
        "Now that you have data, even if it is not perfect, go through a round of finetuning!"
      ],
      "metadata": {
        "id": "xGUefQ2-A12r"
      }
    },
    {
      "cell_type": "code",
      "source": [
        "import logging\n",
        "import os\n",
        "from datetime import datetime\n",
        "from pprint import pprint\n",
        "from typing import AsyncIterator, Iterator, Union\n",
        "import sqlite3\n",
        "from tqdm import tqdm\n",
        "\n",
        "import pandas as pd\n",
        "import jsonlines\n",
        "from lamini.generation.base_prompt_object import PromptObject\n",
        "from lamini.generation.generation_node import GenerationNode\n",
        "from lamini.generation.base_prompt_object import PromptObject\n",
        "from lamini.generation.generation_pipeline import GenerationPipeline\n",
        "from util.get_schema import get_schema\n",
        "from util.make_llama_3_prompt import make_llama_3_prompt\n",
        "from util.setup_logging import setup_logging\n",
        "from util.load_dataset import get_dataset\n",
        "from util.get_default_finetune_args import get_default_finetune_args\n",
        "\n",
        "logger = logging.getLogger(__name__)\n",
        "engine = sqlite3.connect(\"./nba_roster.db\")\n",
        "setup_logging()\n",
        "\n",
        "class Args:\n",
        "    def __init__(self,\n",
        "                 max_examples=100,\n",
        "                 sql_model_name=\"meta-llama/Meta-Llama-3-8B-Instruct\",\n",
        "                 gold_file_name=\"gold-test-set.jsonl\",\n",
        "                 training_file_name=\"archive/generated_queries.jsonl\",\n",
        "                 num_to_generate=10):\n",
        "        self.sql_model_name = sql_model_name\n",
        "        self.max_examples = max_examples\n",
        "        self.gold_file_name = gold_file_name\n",
        "        self.training_file_name = training_file_name\n",
        "        self.num_to_generate = num_to_generate"
      ],
      "metadata": {
        "id": "qPLC1xgiA5Nm"
      },
      "execution_count": null,
      "outputs": []
    },
    {
      "cell_type": "markdown",
      "source": [
        "make_question will take the questions and queries from the training_file and embed them in the prompt below to form the training data."
      ],
      "metadata": {
        "id": "hXP1RCrjA8tA"
      }
    },
    {
      "cell_type": "code",
      "source": [
        "def make_question(obj):\n",
        "    system = \"You are an NBA analyst with 15 years of experience writing complex SQL queries.\\n\"\n",
        "    system += \"Consider the nba_roster table with the following schema:\\n\"\n",
        "    system += get_schema() + \"\\n\"\n",
        "    system += (\n",
        "        \"Write a sqlite SQL query that would help you answer the following question:\\n\"\n",
        "    )\n",
        "    user = obj[\"question\"]\n",
        "    return {\"system\": system, \"user\": user}"
      ],
      "metadata": {
        "id": "pMnG2Rs-A-s9"
      },
      "execution_count": null,
      "outputs": []
    },
    {
      "cell_type": "code",
      "source": [
        "args = Args()\n",
        "llm = lamini.Lamini(model_name=\"meta-llama/Meta-Llama-3-8B-Instruct\")"
      ],
      "metadata": {
        "id": "UOx2bG4WBBvr"
      },
      "execution_count": null,
      "outputs": []
    },
    {
      "cell_type": "code",
      "source": [
        "dataset = get_dataset(args, make_question)"
      ],
      "metadata": {
        "id": "5QKh0P9uBBsB"
      },
      "execution_count": null,
      "outputs": []
    },
    {
      "cell_type": "code",
      "source": [
        "finetune_args = get_default_finetune_args()"
      ],
      "metadata": {
        "id": "ukZ8QlSaBBpi"
      },
      "execution_count": null,
      "outputs": []
    },
    {
      "cell_type": "markdown",
      "source": [
        "This fine tuning step takes about 30 mintues to complete. The dispatch to run on the lamini services is commented out and the pre-computed final results of the run are provided below. You can uncomment and run if you have modified data on your own."
      ],
      "metadata": {
        "id": "1Jc3oKc0BGeH"
      }
    },
    {
      "cell_type": "markdown",
      "source": [
        "We can examine this pre-computed finetuning result."
      ],
      "metadata": {
        "id": "sAaVDH5GBJls"
      }
    },
    {
      "cell_type": "code",
      "source": [
        "llm = lamini.Lamini(model_name=\"a5ebf1c4879569101f32444afae5adcafbfce9c5a6ed13035fd892147f7d59bc\")"
      ],
      "metadata": {
        "id": "JegyHgyqBHTD"
      },
      "execution_count": null,
      "outputs": []
    },
    {
      "cell_type": "code",
      "source": [
        "question = \"\"\"Who is the highest paid NBA player?\"\"\"\n",
        "system = f\"\"\"You are an NBA analyst with 15 years of experience writing complex SQL queries. Consider the nba_roster table with the following schema:\n",
        "{get_schema()}\n",
        "\n",
        "Write a sqlite query to answer the following question. Follow instructions exactly\"\"\"\n",
        "prompt = make_llama_3_prompt(question, system)\n",
        "print(\"Question:\\n\", question)"
      ],
      "metadata": {
        "id": "L8kowEhlBNBo"
      },
      "execution_count": null,
      "outputs": []
    },
    {
      "cell_type": "code",
      "source": [
        "print(\"Answer:\")\n",
        "print(llm.generate(prompt, max_new_tokens=200))"
      ],
      "metadata": {
        "id": "jyjDb8J4BM-Q"
      },
      "execution_count": null,
      "outputs": []
    },
    {
      "cell_type": "code",
      "source": [
        "query=\"SELECT salary, name FROM nba_roster WHERE salary != '--' ORDER BY CAST(REPLACE(REPLACE(salary, '$', ''), ',','') AS INTEGER) DESC LIMIT 1;\"\n",
        "df = pd.read_sql(query, con=engine)\n",
        "print(df)"
      ],
      "metadata": {
        "id": "ePosXH8wBM7X"
      },
      "execution_count": null,
      "outputs": []
    },
    {
      "cell_type": "markdown",
      "source": [
        "Now lets run an evaluation over the eval dataset. Load code from lesson 3."
      ],
      "metadata": {
        "id": "Tv6QQNdTBRrG"
      }
    },
    {
      "cell_type": "code",
      "source": [
        "# Collapsible or utils from Lesson 3 Lab for evaluation\n",
        "class QueryStage(GenerationNode):\n",
        "    def __init__(self, model_name):\n",
        "        super().__init__(\n",
        "            model_name=model_name,\n",
        "            max_new_tokens=300,\n",
        "        )\n",
        "\n",
        "    def generate(\n",
        "        self,\n",
        "        prompt: Union[Iterator[PromptObject], AsyncIterator[PromptObject]],\n",
        "        *args,\n",
        "        **kwargs,\n",
        "    ):\n",
        "        results = super().generate(\n",
        "            prompt,\n",
        "            output_type={\"sqlite_query\": \"str\"},\n",
        "            *args,\n",
        "            **kwargs,\n",
        "        )\n",
        "        return results\n",
        "\n",
        "\n",
        "    def postprocess(self, obj: PromptObject):\n",
        "        # Run both the generated and reference (Gold Dataset) SQL queries\n",
        "        # Assessing whether the SQL queries succeeded in hitting the database (not correctness yet!)\n",
        "\n",
        "        query_succeeded = False\n",
        "\n",
        "        try:\n",
        "            logger.info(f\"Running SQL query '{obj.response['sqlite_query']}'\")\n",
        "            obj.data[\"generated_query\"] = obj.response[\"sqlite_query\"]\n",
        "            df = pd.read_sql(obj.response[\"sqlite_query\"], con=engine)\n",
        "            obj.data['df'] = df\n",
        "            logger.info(f\"Got data: {df}\")\n",
        "            query_succeeded = True\n",
        "\n",
        "        except Exception as e:\n",
        "            logger.error(\n",
        "                f\"Failed to run SQL query: {obj.response['sqlite_query']}\"\n",
        "            )\n",
        "\n",
        "        logger.info(f\"Running reference SQL query '{obj.data['sql']}'\")\n",
        "        df = pd.read_sql(obj.data[\"sql\"], con=engine)\n",
        "        logger.info(f\"Got data: {df}\")\n",
        "        obj.data['reference_df'] = df\n",
        "\n",
        "        logger.info(f\"For question: {obj.data['question']}\")\n",
        "        logger.info(f\"For query: {obj.response['sqlite_query']}\")\n",
        "\n",
        "        obj.data[\"query_succeeded\"] = query_succeeded\n",
        "\n",
        "    def preprocess(self, obj: PromptObject):\n",
        "        new_prompt = make_llama_3_prompt(**self.make_prompt(obj.data))\n",
        "        obj.prompt = new_prompt\n",
        "\n",
        "    def make_prompt(self, data: dict):\n",
        "        system = \"You are an NBA analyst with 15 years of experience writing complex SQL queries.\\n\"\n",
        "        system += \"Consider the nba_roster table with the following schema:\\n\"\n",
        "        system += get_schema() + \"\\n\"\n",
        "        system += (\n",
        "            \"Write a sqlite SQL query that would help you answer the following question. Make sure each query ends with a semicolon:\\n\"\n",
        "        )\n",
        "        user = data[\"question\"]\n",
        "        return {\n",
        "            \"user\": user,\n",
        "            \"system\": system,\n",
        "        }\n",
        "\n",
        "class ScoreStage(GenerationNode):\n",
        "    def __init__(self):\n",
        "        super().__init__(\n",
        "            model_name=\"meta-llama/Meta-Llama-3-8B-Instruct\",\n",
        "            max_new_tokens=150,\n",
        "        )\n",
        "\n",
        "    def generate(\n",
        "        self,\n",
        "        prompt: Union[Iterator[PromptObject], AsyncIterator[PromptObject]],\n",
        "        *args,\n",
        "        **kwargs,\n",
        "    ):\n",
        "        results = super().generate(\n",
        "            prompt,\n",
        "            output_type={\"explanation\": \"str\", \"similar\": [\"true\", \"false\"]},\n",
        "            *args,\n",
        "            **kwargs,\n",
        "        )\n",
        "        return results\n",
        "\n",
        "    def preprocess(self, obj: PromptObject):\n",
        "        obj.prompt = make_llama_3_prompt(**self.make_prompt(obj))\n",
        "        logger.info(f\"Scoring Stage Prompt:\\n{obj.prompt}\")\n",
        "\n",
        "    def postprocess(self, obj: PromptObject):\n",
        "        obj.data['is_matching'] = self.is_matching(obj.data, obj.response)\n",
        "        obj.data['explanation'] = obj.response[\"explanation\"]\n",
        "        obj.data['similar'] = obj.response[\"similar\"] == \"true\"\n",
        "\n",
        "    def is_matching(self, data, response):\n",
        "        return (str(data.get('df',\"None\")).lower() == str(data['reference_df']).lower()\n",
        "                or response['similar'] == \"true\")\n",
        "\n",
        "    def make_prompt(self, obj: PromptObject):\n",
        "        # Your evaluation model compares SQL output from the generated and reference SQL queries, using another LLM in the pipeline\n",
        "        '''\n",
        "        Note:\n",
        "        Prompt tuning is important!\n",
        "        A previous iteration of this scoring pipeline said `Compare the following two dataframes to see if they are identical`.\n",
        "        That prompt turned out to be too stringent of criteria.\n",
        "        '''\n",
        "        system_prompt = \"Compare the following two dataframes. They are similar if they are almost identical, or if they convey the same information about the nba_roster dataset\"\n",
        "        system_prompt += \"Respond with valid JSON {'explanation' : str, 'similar' : bool}\"\n",
        "        user_prompt = (\n",
        "            f\"========== Dataframe 1 =========\\n{str(obj.data.get('df','None')).lower()}\\n\\n\"\n",
        "        )\n",
        "        user_prompt += (\n",
        "            f\"========== Dataframe 2 =========\\n{str(obj.data['reference_df']).lower()}\\n\\n\"\n",
        "        )\n",
        "        user_prompt += f\"Can you tell me if these dataframes are similar?\"\n",
        "        return {\n",
        "            \"system\": system_prompt,\n",
        "            \"user\": user_prompt\n",
        "        }\n",
        "\n",
        "async def run_eval(dataset, args):\n",
        "\n",
        "    results = await run_evaluation_pipeline(dataset, args)\n",
        "\n",
        "    print(\"Total results:\", len(results))\n",
        "\n",
        "    return results\n",
        "\n",
        "\n",
        "async def run_evaluation_pipeline(dataset, args):\n",
        "    results = EvaluationPipeline(args).call(dataset)\n",
        "\n",
        "    result_list = []\n",
        "\n",
        "    pbar = tqdm(desc=\"Saving results\", unit=\" results\")\n",
        "    async for result in results:\n",
        "        result_list.append(result)\n",
        "        pbar.update()\n",
        "    return result_list\n",
        "\n",
        "\n",
        "class EvaluationPipeline(GenerationPipeline):\n",
        "    def __init__(self, args):\n",
        "        super().__init__()\n",
        "        self.query_stage = QueryStage(args.sql_model_name)\n",
        "        self.score_stage = ScoreStage()\n",
        "\n",
        "\n",
        "    def forward(self, x):\n",
        "        x = self.query_stage(x)\n",
        "        x = self.score_stage(x)\n",
        "        return x\n",
        "\n",
        "def load_gold_dataset(args):\n",
        "    path = f\"data/{args.gold_file_name}\"\n",
        "\n",
        "    with jsonlines.open(path) as reader:\n",
        "        for index, obj in enumerate(reversed(list(reader))):\n",
        "            if index >= args.max_examples:\n",
        "                break\n",
        "            yield PromptObject(prompt=\"\", data=obj)\n",
        "\n",
        "def save_eval_results(results, args):\n",
        "    base_path = \"./data/results\"\n",
        "    now = datetime.now().strftime(\"%Y_%m_%d_%H_%M_%S\")\n",
        "    experiment_name = f\"nba_sql_pipeline_{now}\"\n",
        "    experiment_dir = os.path.join(base_path, experiment_name)\n",
        "    os.makedirs(os.path.join(base_path, experiment_name))\n",
        "\n",
        "    # Write args to file\n",
        "    args_file_name = f\"{experiment_dir}/args.txt\"\n",
        "    with open(args_file_name, \"w\") as writer:\n",
        "        pprint(args.__dict__, writer)\n",
        "\n",
        "\n",
        "    def is_correct(r):\n",
        "        if (\n",
        "            (result.data[\"query_succeeded\"] and result.data['is_matching']) or\n",
        "            result.data[\"generated_query\"] == result.data['sql']\n",
        "        ):\n",
        "            return True\n",
        "        return False\n",
        "\n",
        "    # Write sql results and errors to file\n",
        "    results_file_name = f\"{experiment_dir}/sql_results.jsonl\"\n",
        "    with jsonlines.open(results_file_name, \"w\") as writer:\n",
        "        for result in results:\n",
        "            if not is_correct(result):\n",
        "                continue\n",
        "            writer.write(\n",
        "                {\n",
        "                    \"question\": result.data['question'],\n",
        "                    \"query\": result.data[\"generated_query\"],\n",
        "                    \"query_succeeded\": result.data[\"query_succeeded\"],\n",
        "                    \"reference_sql\": result.data['sql'],\n",
        "                    \"df\": str(result.data.get('df', 'None')),\n",
        "                    \"reference_df\": str(result.data['reference_df']),\n",
        "                    'is_matching': result.data['is_matching'],\n",
        "                    'similar': result.data['similar'],\n",
        "                }\n",
        "            )\n",
        "\n",
        "    results_file_name = f\"{experiment_dir}/sql_errors.jsonl\"\n",
        "    with jsonlines.open(results_file_name, \"w\") as writer:\n",
        "        for result in results:\n",
        "            if is_correct(result):\n",
        "                continue\n",
        "            writer.write(\n",
        "                {\n",
        "                    \"question\": result.data['question'],\n",
        "                    \"query\": result.data[\"generated_query\"],\n",
        "                    \"query_succeeded\": result.data[\"query_succeeded\"],\n",
        "                    \"df\": str(result.data.get('df', 'None')),\n",
        "                    \"reference_df\": str(result.data['reference_df']),\n",
        "                    'is_matching': result.data['is_matching'],\n",
        "                    'similar': result.data['similar'],\n",
        "                }\n",
        "            )\n",
        "\n",
        "    # Write statistics to file\n",
        "    average_sql_succeeded = sum(\n",
        "        [result.data[\"query_succeeded\"] for result in results]\n",
        "    ) / len(results)\n",
        "    average_correct = sum(\n",
        "        [result.data[\"query_succeeded\"] and result.data['is_matching'] for result in results]\n",
        "    ) / len(results)\n",
        "\n",
        "    file_name = f\"{experiment_dir}/summary.txt\"\n",
        "    with open(file_name, \"w\") as writer:\n",
        "        print(f\"Total size of eval dataset: {len(results)}\", file=writer)\n",
        "        print(f\"Total size of eval dataset: {len(results)}\")\n",
        "        print(f\"Percent Valid SQL Syntax: {average_sql_succeeded*100}\", file=writer)\n",
        "        print(f\"Percent Valid SQL Syntax: {average_sql_succeeded*100}\")\n",
        "        print(f\"Percent Correct SQL Query: {average_correct*100}\", file=writer)\n",
        "        print(f\"Percent Correct SQL Query: {average_correct*100}\")"
      ],
      "metadata": {
        "id": "NGei1pzuBSD5"
      },
      "execution_count": null,
      "outputs": []
    },
    {
      "cell_type": "markdown",
      "source": [
        "Run the evaluation and you can see there is more valid SQL and correct queries."
      ],
      "metadata": {
        "id": "FZaMwDJABW59"
      }
    },
    {
      "cell_type": "code",
      "source": [
        "args = Args(sql_model_name=\"a5ebf1c4879569101f32444afae5adcafbfce9c5a6ed13035fd892147f7d59bc\")\n",
        "dataset = load_gold_dataset(args)\n",
        "results = await run_eval(dataset, args)\n",
        "save_eval_results(results, args)"
      ],
      "metadata": {
        "id": "IMAXdVMcBYC1"
      },
      "execution_count": null,
      "outputs": []
    },
    {
      "cell_type": "markdown",
      "source": [
        "#Iteration 2\n",
        "Examine remaining errors."
      ],
      "metadata": {
        "id": "Swfbmk7GBagn"
      }
    },
    {
      "cell_type": "code",
      "source": [
        "!cat sql_errors_example.jsonl"
      ],
      "metadata": {
        "id": "nz5BibGLBb74"
      },
      "execution_count": null,
      "outputs": []
    },
    {
      "cell_type": "code",
      "source": [
        "!cat \"data/training_data/archive/generated_queries.jsonl\" | grep \"75th percentile\""
      ],
      "metadata": {
        "id": "68ckE2GiBfHS"
      },
      "execution_count": null,
      "outputs": []
    },
    {
      "cell_type": "code",
      "source": [
        "!cat \"data/training_data/archive/generated_queries_large.jsonl\" | grep \"75th percentile\""
      ],
      "metadata": {
        "id": "KkA5FasJBgh6"
      },
      "execution_count": null,
      "outputs": []
    },
    {
      "cell_type": "markdown",
      "source": [
        "Filtering the dataset\n",
        "Next step is filtering. Manually create functions to filter the test set."
      ],
      "metadata": {
        "id": "7QjOe30LBiTN"
      }
    },
    {
      "cell_type": "code",
      "source": [
        "question_set = set()\n",
        "sql_set = set()\n",
        "\n",
        "def is_not_valid_sql(question, sql):\n",
        "    try:\n",
        "        df = pd.read_sql(sql, con=engine)\n",
        "        return False\n",
        "    except Exception as e:\n",
        "        return True\n",
        "\n",
        "def has_null_in_sql_or_question(question, sql):\n",
        "    return \"null\" in sql.lower() or \"null\" in question\n",
        "\n",
        "def returns_empty_dataframe(question, sql):\n",
        "    try:\n",
        "        df = pd.read_sql(sql, con=engine)\n",
        "        return \"Empty\" in str(df) or \"None\" in str(df)\n",
        "    except Exception as e:\n",
        "        return False\n",
        "\n",
        "def uses_avg_on_ht_column(question, sql):\n",
        "    return \"avg(ht)\" in sql.lower() or \"avg(salary\" in sql.lower()\n",
        "\n",
        "filter_conditions = [is_not_valid_sql, has_null_in_sql_or_question, returns_empty_dataframe, uses_avg_on_ht_column]\n",
        "\n",
        "def training_semicolon(sql):\n",
        "    if sql.strip()[-1] != \";\":\n",
        "        return sql.strip() + \";\"\n",
        "    return sql\n",
        "\n",
        "with jsonlines.open(\"data/training_data/archive/generated_queries_large.jsonl\", \"r\") as reader:\n",
        "    with jsonlines.open(\"data/training_data/generated_queries_large_filtered.jsonl\", \"w\") as writer:\n",
        "        for r in reader:\n",
        "            if r[\"question\"] in question_set or r[\"sql\"] in sql_set:\n",
        "                continue\n",
        "            question_set.add(r[\"question\"])\n",
        "            sql_set.add(r[\"sql\"])\n",
        "\n",
        "            if any(c(r['question'], r['sql']) for c in filter_conditions):\n",
        "                continue\n",
        "\n",
        "            sql = training_semicolon(r['sql'])\n",
        "            writer.write(\n",
        "                {\n",
        "                    \"question\": r[\"question\"],\n",
        "                    \"sql\": sql,\n",
        "                }\n",
        "            )"
      ],
      "metadata": {
        "id": "VlBO510TBi6j"
      },
      "execution_count": null,
      "outputs": []
    },
    {
      "cell_type": "code",
      "source": [
        "!cat \"data/training_data/archive/generated_queries_large_filtered.jsonl\" | grep \"75th percentile\""
      ],
      "metadata": {
        "id": "7vTkMc3BBl_J"
      },
      "execution_count": null,
      "outputs": []
    },
    {
      "cell_type": "code",
      "source": [
        "!cat \"data/training_data/archive/generated_queries_large_filtered_cleaned.jsonl\" | grep \"75th percentile\""
      ],
      "metadata": {
        "id": "CBf2YBKLBnoC"
      },
      "execution_count": null,
      "outputs": []
    },
    {
      "cell_type": "markdown",
      "source": [
        "dd more examples of median weight queries."
      ],
      "metadata": {
        "id": "Ls-Gr6XKBtdN"
      }
    },
    {
      "cell_type": "code",
      "source": [
        "!cat \"data/training_data/archive/generated_queries_large_filtered_cleaned.jsonl\" | grep \"median weight\""
      ],
      "metadata": {
        "id": "j-0fpAOhBrat"
      },
      "execution_count": null,
      "outputs": []
    },
    {
      "cell_type": "code",
      "source": [
        "!cat \"data/training_data/archive/generated_queries_large_filtered_cleaned.jsonl\" | grep \"median\""
      ],
      "metadata": {
        "id": "69N65WKeBvmJ"
      },
      "execution_count": null,
      "outputs": []
    },
    {
      "cell_type": "code",
      "source": [
        "# Model tuned on `archive/generated_queries_large_filtered_cleaned.jsonl`\n",
        "llm = lamini.Lamini(model_name=\"63fd73a775daf24216b46c680a1e963a8d1e02b21bca43fcea6c26737d2e887e\")"
      ],
      "metadata": {
        "id": "-b1KXR1vBvi0"
      },
      "execution_count": null,
      "outputs": []
    },
    {
      "cell_type": "code",
      "source": [
        "question = \"\"\"What is the median age of the Chicago Bulls?\"\"\"\n",
        "system = f\"\"\"You are an NBA analyst with 15 years of experience writing complex SQL queries. Consider the nba_roster table with the following schema:\n",
        "{get_schema()}\n",
        "\n",
        "Write a sqlite query to answer the following question. Follow instructions exactly\"\"\"\n",
        "prompt = make_llama_3_prompt(question, system)\n",
        "print(\"Question:\\n\", question)\n",
        "\n",
        "print(\"Answer:\")\n",
        "sql = llm.generate(prompt, max_new_tokens=200)\n",
        "print(sql)"
      ],
      "metadata": {
        "id": "ENY-ebmjBvf4"
      },
      "execution_count": null,
      "outputs": []
    },
    {
      "cell_type": "code",
      "source": [
        "df = pd.read_sql(sql, con=engine)\n",
        "print(df)"
      ],
      "metadata": {
        "id": "PUCNhYK2B0FC"
      },
      "execution_count": null,
      "outputs": []
    },
    {
      "cell_type": "markdown",
      "source": [
        "Here is a larger pre-prepared dataset."
      ],
      "metadata": {
        "id": "a93y9CHlB1tL"
      }
    },
    {
      "cell_type": "code",
      "source": [
        "!cat data/gold-test-set-v2.jsonl"
      ],
      "metadata": {
        "id": "Iw2ZWfh3B2JU"
      },
      "execution_count": null,
      "outputs": []
    },
    {
      "cell_type": "code",
      "source": [
        "args = Args(training_file_name=\"archive/generated_queries_v2_large_filtered_cleaned.jsonl\")"
      ],
      "metadata": {
        "id": "FtiPtn7HB5Kh"
      },
      "execution_count": null,
      "outputs": []
    },
    {
      "cell_type": "code",
      "source": [
        "llm = lamini.Lamini(model_name=\"meta-llama/Meta-Llama-3-8B-Instruct\")"
      ],
      "metadata": {
        "id": "9ySWxN2HB5G7"
      },
      "execution_count": null,
      "outputs": []
    },
    {
      "cell_type": "code",
      "source": [
        "dataset = get_dataset(args, make_question)\n",
        "finetune_args = get_default_finetune_args()"
      ],
      "metadata": {
        "id": "0VW6rPwYB5EN"
      },
      "execution_count": null,
      "outputs": []
    },
    {
      "cell_type": "markdown",
      "source": [
        "This fine tuning step takes about 30 mintues to complete. The dispatch to run on the Lamini services is commented out and the pre-computed final results of the run are provided below. You can uncomment and run if you have modified data on your own."
      ],
      "metadata": {
        "id": "7669d_V1B-WA"
      }
    },
    {
      "cell_type": "code",
      "source": [
        "# Collapsible or utils from Lesson 3 Lab for evaluation\n",
        "class QueryStage(GenerationNode):\n",
        "    def __init__(self, model_name):\n",
        "        super().__init__(\n",
        "            model_name=model_name,\n",
        "            max_new_tokens=300,\n",
        "        )\n",
        "\n",
        "    def generate(\n",
        "        self,\n",
        "        prompt: Union[Iterator[PromptObject], AsyncIterator[PromptObject]],\n",
        "        *args,\n",
        "        **kwargs,\n",
        "    ):\n",
        "        results = super().generate(\n",
        "            prompt,\n",
        "            output_type={\"sqlite_query\": \"str\"},\n",
        "            *args,\n",
        "            **kwargs,\n",
        "        )\n",
        "        return results\n",
        "\n",
        "\n",
        "    def postprocess(self, obj: PromptObject):\n",
        "        # Run both the generated and reference (Gold Dataset) SQL queries\n",
        "        # Assessing whether the SQL queries succeeded in hitting the database (not correctness yet!)\n",
        "\n",
        "        query_succeeded = False\n",
        "\n",
        "        try:\n",
        "            logger.info(f\"Running SQL query '{obj.response['sqlite_query']}'\")\n",
        "            obj.data[\"generated_query\"] = obj.response[\"sqlite_query\"]\n",
        "            df = pd.read_sql(obj.response[\"sqlite_query\"], con=engine)\n",
        "            obj.data['df'] = df\n",
        "            logger.info(f\"Got data: {df}\")\n",
        "            query_succeeded = True\n",
        "\n",
        "        except Exception as e:\n",
        "            logger.error(\n",
        "                f\"Failed to run SQL query: {obj.response['sqlite_query']}\"\n",
        "            )\n",
        "\n",
        "        logger.info(f\"Running reference SQL query '{obj.data['sql']}'\")\n",
        "        df = pd.read_sql(obj.data[\"sql\"], con=engine)\n",
        "        logger.info(f\"Got data: {df}\")\n",
        "        obj.data['reference_df'] = df\n",
        "\n",
        "        logger.info(f\"For question: {obj.data['question']}\")\n",
        "        logger.info(f\"For query: {obj.response['sqlite_query']}\")\n",
        "\n",
        "        obj.data[\"query_succeeded\"] = query_succeeded\n",
        "\n",
        "    def preprocess(self, obj: PromptObject):\n",
        "        new_prompt = make_llama_3_prompt(**self.make_prompt(obj.data))\n",
        "        obj.prompt = new_prompt\n",
        "\n",
        "    def make_prompt(self, data: dict):\n",
        "        system = \"You are an NBA analyst with 15 years of experience writing complex SQL queries.\\n\"\n",
        "        system += \"Consider the nba_roster table with the following schema:\\n\"\n",
        "        system += get_schema() + \"\\n\"\n",
        "        system += (\n",
        "            \"Write a sqlite SQL query that would help you answer the following question:\\n\"#\"Write a sqlite SQL query that would help you answer the following question:\\n\"\n",
        "        )\n",
        "        user = data[\"question\"]\n",
        "        return {\n",
        "            \"user\": user,\n",
        "            \"system\": system,\n",
        "        }\n",
        "\n",
        "class ScoreStage(GenerationNode):\n",
        "    def __init__(self):\n",
        "        super().__init__(\n",
        "            model_name=\"meta-llama/Meta-Llama-3-8B-Instruct\",\n",
        "            max_new_tokens=150,\n",
        "        )\n",
        "\n",
        "    def generate(\n",
        "        self,\n",
        "        prompt: Union[Iterator[PromptObject], AsyncIterator[PromptObject]],\n",
        "        *args,\n",
        "        **kwargs,\n",
        "    ):\n",
        "        results = super().generate(\n",
        "            prompt,\n",
        "            output_type={\"explanation\": \"str\", \"similar\": [\"true\", \"false\"]},\n",
        "            *args,\n",
        "            **kwargs,\n",
        "        )\n",
        "        return results\n",
        "\n",
        "    def preprocess(self, obj: PromptObject):\n",
        "        obj.prompt = make_llama_3_prompt(**self.make_prompt(obj))\n",
        "        logger.info(f\"Scoring Stage Prompt:\\n{obj.prompt}\")\n",
        "\n",
        "    def postprocess(self, obj: PromptObject):\n",
        "        obj.data['is_matching'] = self.is_matching(obj.data, obj.response)\n",
        "        obj.data['explanation'] = obj.response[\"explanation\"]\n",
        "        obj.data['similar'] = obj.response[\"similar\"] == \"true\"\n",
        "\n",
        "    def is_matching(self, data, response):\n",
        "        return (str(data.get('df',\"None\")).lower() == str(data['reference_df']).lower()\n",
        "                or response['similar'] == \"true\")\n",
        "\n",
        "    def make_prompt(self, obj: PromptObject):\n",
        "        # Your evaluation model compares SQL output from the generated and reference SQL queries, using another LLM in the pipeline\n",
        "        '''\n",
        "        Note:\n",
        "        Prompt tuning is important!\n",
        "        A previous iteration of this scoring pipeline said `Compare the following two dataframes to see if they are identical`.\n",
        "        That prompt turned out to be too stringent of criteria.\n",
        "        '''\n",
        "        system_prompt = \"Compare the following two dataframes. They are similar if they are almost identical, or if they convey the same information about the nba_roster dataset\"\n",
        "        system_prompt += \"Respond with valid JSON {'explanation' : str, 'similar' : bool}\"\n",
        "        user_prompt = (\n",
        "            f\"========== Dataframe 1 =========\\n{str(obj.data.get('df','None')).lower()}\\n\\n\"\n",
        "        )\n",
        "        user_prompt += (\n",
        "            f\"========== Dataframe 2 =========\\n{str(obj.data['reference_df']).lower()}\\n\\n\"\n",
        "        )\n",
        "        user_prompt += f\"Can you tell me if these dataframes are similar?\"\n",
        "        return {\n",
        "            \"system\": system_prompt,\n",
        "            \"user\": user_prompt\n",
        "        }\n",
        "\n",
        "async def run_eval(dataset, args):\n",
        "\n",
        "    results = await run_evaluation_pipeline(dataset, args)\n",
        "\n",
        "    print(\"Total results:\", len(results))\n",
        "\n",
        "    return results\n",
        "\n",
        "\n",
        "async def run_evaluation_pipeline(dataset, args):\n",
        "    results = EvaluationPipeline(args).call(dataset)\n",
        "\n",
        "    result_list = []\n",
        "\n",
        "    pbar = tqdm(desc=\"Saving results\", unit=\" results\")\n",
        "    async for result in results:\n",
        "        result_list.append(result)\n",
        "        pbar.update()\n",
        "    return result_list\n",
        "\n",
        "\n",
        "class EvaluationPipeline(GenerationPipeline):\n",
        "    def __init__(self, args):\n",
        "        super().__init__()\n",
        "        self.query_stage = QueryStage(args.sql_model_name)\n",
        "        self.score_stage = ScoreStage()\n",
        "\n",
        "\n",
        "    def forward(self, x):\n",
        "        x = self.query_stage(x)\n",
        "        x = self.score_stage(x)\n",
        "        return x\n",
        "\n",
        "def load_gold_dataset(args):\n",
        "    path = f\"data/{args.gold_file_name}\"\n",
        "\n",
        "    with jsonlines.open(path) as reader:\n",
        "        for index, obj in enumerate(reversed(list(reader))):\n",
        "            if index >= args.max_examples:\n",
        "                break\n",
        "            yield PromptObject(prompt=\"\", data=obj)\n",
        "\n",
        "def save_eval_results(results, args):\n",
        "    base_path = \"./data/results\"\n",
        "    now = datetime.now().strftime(\"%Y_%m_%d_%H_%M_%S\")\n",
        "    experiment_name = f\"nba_sql_pipeline_{now}\"\n",
        "    experiment_dir = os.path.join(base_path, experiment_name)\n",
        "    os.makedirs(os.path.join(base_path, experiment_name))\n",
        "\n",
        "    # Write args to file\n",
        "    args_file_name = f\"{experiment_dir}/args.txt\"\n",
        "    with open(args_file_name, \"w\") as writer:\n",
        "        pprint(args.__dict__, writer)\n",
        "\n",
        "\n",
        "    def is_correct(r):\n",
        "        if (\n",
        "            (result.data[\"query_succeeded\"] and result.data['is_matching']) or\n",
        "            result.data[\"generated_query\"] == result.data['sql']\n",
        "        ):\n",
        "            return True\n",
        "        return False\n",
        "\n",
        "    # Write sql results and errors to file\n",
        "    results_file_name = f\"{experiment_dir}/sql_results.jsonl\"\n",
        "    with jsonlines.open(results_file_name, \"w\") as writer:\n",
        "        for result in results:\n",
        "            if not is_correct(result):\n",
        "                continue\n",
        "            writer.write(\n",
        "                {\n",
        "                    \"question\": result.data['question'],\n",
        "                    \"query\": result.data[\"generated_query\"],\n",
        "                    \"query_succeeded\": result.data[\"query_succeeded\"],\n",
        "                    \"reference_sql\": result.data['sql'],\n",
        "                    \"df\": str(result.data.get('df', 'None')),\n",
        "                    \"reference_df\": str(result.data['reference_df']),\n",
        "                    'is_matching': result.data['is_matching'],\n",
        "                    'similar': result.data['similar'],\n",
        "                }\n",
        "            )\n",
        "\n",
        "    results_file_name = f\"{experiment_dir}/sql_errors.jsonl\"\n",
        "    with jsonlines.open(results_file_name, \"w\") as writer:\n",
        "        for result in results:\n",
        "            if is_correct(result):\n",
        "                continue\n",
        "            writer.write(\n",
        "                {\n",
        "                    \"question\": result.data['question'],\n",
        "                    \"query\": result.data[\"generated_query\"],\n",
        "                    \"query_succeeded\": result.data[\"query_succeeded\"],\n",
        "                    \"df\": str(result.data.get('df', 'None')),\n",
        "                    \"reference_df\": str(result.data['reference_df']),\n",
        "                    'is_matching': result.data['is_matching'],\n",
        "                    'similar': result.data['similar'],\n",
        "                }\n",
        "            )\n",
        "\n",
        "    # Write statistics to file\n",
        "    average_sql_succeeded = sum(\n",
        "        [result.data[\"query_succeeded\"] for result in results]\n",
        "    ) / len(results)\n",
        "    average_correct = sum(\n",
        "        [result.data[\"query_succeeded\"] and result.data['is_matching'] for result in results]\n",
        "    ) / len(results)\n",
        "\n",
        "    file_name = f\"{experiment_dir}/summary.txt\"\n",
        "    with open(file_name, \"w\") as writer:\n",
        "        print(f\"Total size of eval dataset: {len(results)}\", file=writer)\n",
        "        print(f\"Total size of eval dataset: {len(results)}\")\n",
        "        print(f\"Percent Valid SQL Syntax: {average_sql_succeeded*100}\", file=writer)\n",
        "        print(f\"Percent Valid SQL Syntax: {average_sql_succeeded*100}\")\n",
        "        print(f\"Percent Correct SQL Query: {average_correct*100}\", file=writer)\n",
        "        print(f\"Percent Correct SQL Query: {average_correct*100}\")\n",
        "\n",
        "\n"
      ],
      "metadata": {
        "id": "4MlyAn8ZB-Ba"
      },
      "execution_count": null,
      "outputs": []
    },
    {
      "cell_type": "markdown",
      "source": [
        "Use pretrained model trained with the above dataset."
      ],
      "metadata": {
        "id": "bqtkIknXCFlu"
      }
    },
    {
      "cell_type": "code",
      "source": [
        "args = Args(sql_model_name=\"3f7e740c0ea2227631a30d293b51564ad1b80727c3768a3b136fbae93170c1e2\", gold_file_name='gold-test-set-v2.jsonl')\n",
        "dataset = load_gold_dataset(args)\n",
        "results = await run_eval(dataset, args)\n",
        "save_eval_results(results, args)"
      ],
      "metadata": {
        "id": "inAL8M8nCG-1"
      },
      "execution_count": null,
      "outputs": []
    }
  ]
}